{
 "cells": [
  {
   "cell_type": "markdown",
   "id": "8a575919",
   "metadata": {},
   "source": [
    "# <font color='blue'>Coleta de dados via API</font>"
   ]
  },
  {
   "cell_type": "code",
   "execution_count": 1,
   "id": "4161350d",
   "metadata": {},
   "outputs": [
    {
     "name": "stdout",
     "output_type": "stream",
     "text": [
      "Requirement already satisfied: azure-storage-blob in c:\\users\\magno\\anaconda3\\lib\\site-packages (12.13.1)\n",
      "Requirement already satisfied: azure-core<2.0.0,>=1.23.1 in c:\\users\\magno\\anaconda3\\lib\\site-packages (from azure-storage-blob) (1.25.0)\n",
      "Requirement already satisfied: cryptography>=2.1.4 in c:\\users\\magno\\anaconda3\\lib\\site-packages (from azure-storage-blob) (3.4.8)\n",
      "Requirement already satisfied: msrest>=0.6.21 in c:\\users\\magno\\anaconda3\\lib\\site-packages (from azure-storage-blob) (0.7.1)\n",
      "Requirement already satisfied: typing-extensions>=4.0.1 in c:\\users\\magno\\anaconda3\\lib\\site-packages (from azure-core<2.0.0,>=1.23.1->azure-storage-blob) (4.1.1)\n",
      "Requirement already satisfied: requests>=2.18.4 in c:\\users\\magno\\anaconda3\\lib\\site-packages (from azure-core<2.0.0,>=1.23.1->azure-storage-blob) (2.27.1)\n",
      "Requirement already satisfied: six>=1.11.0 in c:\\users\\magno\\anaconda3\\lib\\site-packages (from azure-core<2.0.0,>=1.23.1->azure-storage-blob) (1.16.0)\n",
      "Requirement already satisfied: cffi>=1.12 in c:\\users\\magno\\anaconda3\\lib\\site-packages (from cryptography>=2.1.4->azure-storage-blob) (1.15.0)\n",
      "Requirement already satisfied: certifi>=2017.4.17 in c:\\users\\magno\\anaconda3\\lib\\site-packages (from msrest>=0.6.21->azure-storage-blob) (2021.10.8)\n",
      "Requirement already satisfied: isodate>=0.6.0 in c:\\users\\magno\\anaconda3\\lib\\site-packages (from msrest>=0.6.21->azure-storage-blob) (0.6.1)\n",
      "Requirement already satisfied: requests-oauthlib>=0.5.0 in c:\\users\\magno\\anaconda3\\lib\\site-packages (from msrest>=0.6.21->azure-storage-blob) (1.3.1)\n",
      "Requirement already satisfied: pycparser in c:\\users\\magno\\anaconda3\\lib\\site-packages (from cffi>=1.12->cryptography>=2.1.4->azure-storage-blob) (2.21)\n",
      "Requirement already satisfied: idna<4,>=2.5 in c:\\users\\magno\\anaconda3\\lib\\site-packages (from requests>=2.18.4->azure-core<2.0.0,>=1.23.1->azure-storage-blob) (3.3)\n",
      "Requirement already satisfied: charset-normalizer~=2.0.0 in c:\\users\\magno\\anaconda3\\lib\\site-packages (from requests>=2.18.4->azure-core<2.0.0,>=1.23.1->azure-storage-blob) (2.0.4)\n",
      "Requirement already satisfied: urllib3<1.27,>=1.21.1 in c:\\users\\magno\\anaconda3\\lib\\site-packages (from requests>=2.18.4->azure-core<2.0.0,>=1.23.1->azure-storage-blob) (1.26.9)\n",
      "Requirement already satisfied: oauthlib>=3.0.0 in c:\\users\\magno\\anaconda3\\lib\\site-packages (from requests-oauthlib>=0.5.0->msrest>=0.6.21->azure-storage-blob) (3.2.0)\n",
      "Requirement already satisfied: azure.identity in c:\\users\\magno\\anaconda3\\lib\\site-packages (1.10.0)\n",
      "Requirement already satisfied: cryptography>=2.5 in c:\\users\\magno\\anaconda3\\lib\\site-packages (from azure.identity) (3.4.8)\n",
      "Requirement already satisfied: six>=1.12.0 in c:\\users\\magno\\anaconda3\\lib\\site-packages (from azure.identity) (1.16.0)\n",
      "Requirement already satisfied: azure-core<2.0.0,>=1.11.0 in c:\\users\\magno\\anaconda3\\lib\\site-packages (from azure.identity) (1.25.0)\n",
      "Requirement already satisfied: msal<2.0.0,>=1.12.0 in c:\\users\\magno\\anaconda3\\lib\\site-packages (from azure.identity) (1.18.0)\n",
      "Requirement already satisfied: msal-extensions<2.0.0,>=0.3.0 in c:\\users\\magno\\anaconda3\\lib\\site-packages (from azure.identity) (1.0.0)\n",
      "Requirement already satisfied: requests>=2.18.4 in c:\\users\\magno\\anaconda3\\lib\\site-packages (from azure-core<2.0.0,>=1.11.0->azure.identity) (2.27.1)\n",
      "Requirement already satisfied: typing-extensions>=4.0.1 in c:\\users\\magno\\anaconda3\\lib\\site-packages (from azure-core<2.0.0,>=1.11.0->azure.identity) (4.1.1)\n",
      "Requirement already satisfied: cffi>=1.12 in c:\\users\\magno\\anaconda3\\lib\\site-packages (from cryptography>=2.5->azure.identity) (1.15.0)\n",
      "Requirement already satisfied: PyJWT[crypto]<3,>=1.0.0 in c:\\users\\magno\\anaconda3\\lib\\site-packages (from msal<2.0.0,>=1.12.0->azure.identity) (2.1.0)\n",
      "Requirement already satisfied: portalocker<3,>=1.6 in c:\\users\\magno\\anaconda3\\lib\\site-packages (from msal-extensions<2.0.0,>=0.3.0->azure.identity) (2.5.1)\n",
      "Requirement already satisfied: pycparser in c:\\users\\magno\\anaconda3\\lib\\site-packages (from cffi>=1.12->cryptography>=2.5->azure.identity) (2.21)\n",
      "Requirement already satisfied: pywin32>=226 in c:\\users\\magno\\anaconda3\\lib\\site-packages (from portalocker<3,>=1.6->msal-extensions<2.0.0,>=0.3.0->azure.identity) (302)\n",
      "Requirement already satisfied: idna<4,>=2.5 in c:\\users\\magno\\anaconda3\\lib\\site-packages (from requests>=2.18.4->azure-core<2.0.0,>=1.11.0->azure.identity) (3.3)\n",
      "Requirement already satisfied: charset-normalizer~=2.0.0 in c:\\users\\magno\\anaconda3\\lib\\site-packages (from requests>=2.18.4->azure-core<2.0.0,>=1.11.0->azure.identity) (2.0.4)\n",
      "Requirement already satisfied: certifi>=2017.4.17 in c:\\users\\magno\\anaconda3\\lib\\site-packages (from requests>=2.18.4->azure-core<2.0.0,>=1.11.0->azure.identity) (2021.10.8)\n",
      "Requirement already satisfied: urllib3<1.27,>=1.21.1 in c:\\users\\magno\\anaconda3\\lib\\site-packages (from requests>=2.18.4->azure-core<2.0.0,>=1.11.0->azure.identity) (1.26.9)\n",
      "Requirement already satisfied: requests in c:\\users\\magno\\anaconda3\\lib\\site-packages (2.27.1)\n",
      "Requirement already satisfied: certifi>=2017.4.17 in c:\\users\\magno\\anaconda3\\lib\\site-packages (from requests) (2021.10.8)\n",
      "Requirement already satisfied: charset-normalizer~=2.0.0 in c:\\users\\magno\\anaconda3\\lib\\site-packages (from requests) (2.0.4)\n",
      "Requirement already satisfied: idna<4,>=2.5 in c:\\users\\magno\\anaconda3\\lib\\site-packages (from requests) (3.3)\n",
      "Requirement already satisfied: urllib3<1.27,>=1.21.1 in c:\\users\\magno\\anaconda3\\lib\\site-packages (from requests) (1.26.9)\n"
     ]
    }
   ],
   "source": [
    "!pip install azure-storage-blob\n",
    "!pip install azure.identity\n",
    "!pip install requests"
   ]
  },
  {
   "cell_type": "code",
   "execution_count": 2,
   "id": "55ed5909",
   "metadata": {},
   "outputs": [],
   "source": [
    "from azure.storage.blob import BlobServiceClient, BlobClient\n",
    "from azure.identity import DefaultAzureCredential\n",
    "import requests\n",
    "import json\n",
    "import os"
   ]
  },
  {
   "cell_type": "code",
   "execution_count": 3,
   "id": "d19e2554",
   "metadata": {},
   "outputs": [],
   "source": [
    "# Gerando arquivo JSON dos eventos\n",
    "url_api_eventos = 'http://museus.cultura.gov.br/api/event/find?@select=id,name,shortDescription,\\\n",
    "                   createTimestamp,classificacaoEtaria,telefonePublico,site'\n",
    "\n",
    "api_eventos = requests.get(url_api_eventos).json()\n",
    "dados_eventos = open(os.path.join('api_eventos.json'), 'w', encoding='utf-8')\n",
    "dados_eventos.write(json.dumps(api_eventos))\n",
    "dados_eventos.close()"
   ]
  },
  {
   "cell_type": "code",
   "execution_count": 4,
   "id": "6e39c453",
   "metadata": {},
   "outputs": [],
   "source": [
    "# Gerando arquivo JSON dos museus\n",
    "url_api_museus = 'http://museus.cultura.gov.br/api/space/find?@select=id,location,En_Estado,name,shortDescription,\\\n",
    "                  acessibilidade,emailPublico,telefonePublico,endereco,horario,site,type'\n",
    "\n",
    "api_museus = requests.get(url_api_museus).json()\n",
    "dados_museus = open(os.path.join('api_museus.json'), 'w', encoding='utf-8')\n",
    "dados_museus.write(json.dumps(api_museus))\n",
    "dados_museus.close()"
   ]
  },
  {
   "cell_type": "code",
   "execution_count": null,
   "id": "1da050b8",
   "metadata": {},
   "outputs": [],
   "source": [
    "# Gerando arquivo JSON das ocorrências dos eventos\n",
    "url_api_ocorrencias = 'http://museus.cultura.gov.br/api/event/find?@select=occurrences.*'\n",
    "\n",
    "api_ocorrencias = requests.get(url_api_ocorrencias).json()\n",
    "dados_eventos = open(os.path.join('api_ocorrencias.json'), 'w', encoding='utf-8')\n",
    "dados_eventos.write(json.dumps(api_ocorrencias))\n",
    "dados_eventos.close()"
   ]
  },
  {
   "cell_type": "code",
   "execution_count": null,
   "id": "2185e822",
   "metadata": {},
   "outputs": [],
   "source": [
    "# Criando conexão com a conta, para armazenamento de Bbob\n",
    "conta = 'stgestudos'\n",
    "container = 'magno-lapenda/LAB04'\n",
    "\n",
    "string_conexao = f'DefaultEndpointsProtocol=https;AccountName={conta};AccountKey=Ag+nPeB+Q89+FSjRWj7OvZRdVhLX35xkz7u3WUGasvQLG/zm3WvuU4xi+5+uYenN01vn5OQlsJToZ1RV/H2LvQ==;EndpointSuffix=core.windows.net'\n",
    "\n",
    "conexao_blob = BlobServiceClient(\n",
    "               account_url=f'https://{conta}.blob.core.windows.net/{container}',\n",
    "               credential=DefaultAzureCredential()\n",
    ")"
   ]
  },
  {
   "cell_type": "code",
   "execution_count": null,
   "id": "253e8f3a",
   "metadata": {},
   "outputs": [],
   "source": [
    "# Gravando o arquivo JSON com os dados dos EVENTOS\n",
    "try:\n",
    "    gravacao_blob = BlobClient.from_connection_string(\n",
    "                    conn_str=string_conexao, container_name=container, blob_name='dados_eventos.json')\n",
    "    with open('api_eventos.json', 'rb') as eventos:\n",
    "        gravacao_blob.upload_blob(eventos, overwrite=True)\n",
    "        print('Arquivo gravado com sucesso!')\n",
    "    os.remove(\"api_eventos.json\")\n",
    "except:\n",
    "    print(\"Algo deu errado.\")"
   ]
  },
  {
   "cell_type": "code",
   "execution_count": null,
   "id": "8fca0800",
   "metadata": {},
   "outputs": [],
   "source": [
    "# Gravando o arquivo JSON com os dados dos MUSEUS\n",
    "try:\n",
    "    gravacao_blob = BlobClient.from_connection_string(\n",
    "                    conn_str=string_conexao, container_name=container, blob_name='dados_museus.json')\n",
    "    with open('api_museus.json', 'rb') as museus:\n",
    "        gravacao_blob.upload_blob(museus, overwrite=True)\n",
    "        print('Arquivo gravado com sucesso!')\n",
    "    os.remove(\"api_museus.json\")\n",
    "except:\n",
    "    print(\"Algo deu errado.\")"
   ]
  },
  {
   "cell_type": "code",
   "execution_count": null,
   "id": "8738553b",
   "metadata": {},
   "outputs": [],
   "source": [
    "# Gravando o arquivo JSON com os dados das ocorrências\n",
    "try:\n",
    "    gravacao_blob = BlobClient.from_connection_string(\n",
    "                    conn_str=string_conexao, container_name=container, blob_name='dados_ocorrencias.json')\n",
    "    with open('api_ocorrencias.json', 'rb') as ocorrencias:\n",
    "        gravacao_blob.upload_blob(ocorrencias, overwrite=True)\n",
    "        print('Arquivo gravado com sucesso!')\n",
    "    os.remove(\"api_ocorrencias.json\")\n",
    "except:\n",
    "    print(\"Algo deu errado.\")"
   ]
  }
 ],
 "metadata": {
  "kernelspec": {
   "display_name": "Python 3 (ipykernel)",
   "language": "python",
   "name": "python3"
  },
  "language_info": {
   "codemirror_mode": {
    "name": "ipython",
    "version": 3
   },
   "file_extension": ".py",
   "mimetype": "text/x-python",
   "name": "python",
   "nbconvert_exporter": "python",
   "pygments_lexer": "ipython3",
   "version": "3.9.12"
  }
 },
 "nbformat": 4,
 "nbformat_minor": 5
}
